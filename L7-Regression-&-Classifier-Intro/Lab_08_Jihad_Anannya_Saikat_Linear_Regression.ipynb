{
  "cells": [
    {
      "cell_type": "markdown",
      "metadata": {
        "id": "faduvJPfRynB"
      },
      "source": [
        "# Linear Regression\n",
        "Linear Regression is a supervised machine learning algorithm where the predicted output is continuous and has a constant slope. It’s used to predict values within a continuous range, (e.g. sales, price) rather than trying to classify them into categories (e.g. cat, dog). There are two main types:\n",
        "\n",
        "Linear Regression fits a linear model with coefficients w = (w1, …, wp) to minimize the residual sum of squares between the observed targets in the dataset, and the targets predicted by the linear approximation.\n",
        "\n",
        "\n",
        "\\\\\n",
        "\n",
        "Scikit-learn (Sklearn) is Python's most useful and robust machine learning package. It offers a set of fast tools for machine learning and statistical modeling, such as classification, regression, clustering, and dimensionality reduction, via a Python interface. This mostly Python-written package is based on NumPy, SciPy, and Matplotlib.\n",
        "\n",
        "\\\\\n",
        "\n",
        "What is SKlearn Linear Regression?\n",
        "\n",
        "Scikit-learn is a Python package that makes it easier to apply a variety of Machine Learning (ML) algorithms for predictive data analysis, such as linear regression.\n",
        "\n",
        "Linear regression is defined as the process of determining the straight line that best fits a set of dispersed data points:\n",
        "\n",
        "The line can then be projected to forecast fresh data points. Because of its simplicity and essential features, linear regression is a fundamental Machine Learning method.\n",
        "\n",
        "\\\n",
        "\n",
        "Learn More:\n",
        "\n",
        "https://scikit-learn.org/stable/modules/generated/sklearn.linear_model.LinearRegression.html"
      ]
    },
    {
      "cell_type": "code",
      "execution_count": 14,
      "metadata": {
        "colab": {
          "base_uri": "https://localhost:8080/"
        },
        "id": "CEtEWpQM8LY3",
        "outputId": "b112e6fe-0ed3-4154-f6dd-7cbd41427ec1"
      },
      "outputs": [
        {
          "output_type": "stream",
          "name": "stdout",
          "text": [
            "    Temp\n",
            "0     50\n",
            "1     50\n",
            "2     50\n",
            "3     70\n",
            "4     70\n",
            "5     70\n",
            "6     80\n",
            "7     80\n",
            "8     80\n",
            "9     90\n",
            "10    90\n",
            "11    90\n",
            "12   100\n",
            "13   100\n",
            "14   100\n",
            "    Yield\n",
            "0     3.3\n",
            "1     2.8\n",
            "2     2.9\n",
            "3     2.3\n",
            "4     2.6\n",
            "5     2.1\n",
            "6     2.5\n",
            "7     2.9\n",
            "8     2.4\n",
            "9     3.0\n",
            "10    3.1\n",
            "11    2.8\n",
            "12    3.3\n",
            "13    3.5\n",
            "14    3.0\n"
          ]
        }
      ],
      "source": [
        "\n",
        "# Importing the Dataset\n",
        "\n",
        "#%%\n",
        "import numpy as np\n",
        "import matplotlib.pyplot as plt\n",
        "import pandas as pd\n",
        "\n",
        "\n",
        "dataset = pd.read_csv('Dataset_Lab_08.csv')\n",
        "\n",
        "X = dataset[['Temp']]\n",
        "y = dataset[['Yield']]\n",
        "\n",
        "print(X)\n",
        "print(y)"
      ]
    },
    {
      "cell_type": "code",
      "execution_count": 15,
      "metadata": {
        "colab": {
          "base_uri": "https://localhost:8080/"
        },
        "id": "NjBGC5LB9BdU",
        "outputId": "c6ac93b4-b676-4715-d9c8-9b12b8e1d338"
      },
      "outputs": [
        {
          "output_type": "stream",
          "name": "stdout",
          "text": [
            "    Temp\n",
            "4     70\n",
            "2     50\n",
            "13   100\n",
            "10    90\n",
            "7     80\n",
            "11    90\n",
            "3     70\n",
            "0     50\n",
            "5     70\n",
            "12   100\n",
            "    Yield\n",
            "4     2.6\n",
            "2     2.9\n",
            "13    3.5\n",
            "10    3.1\n",
            "7     2.9\n",
            "11    2.8\n",
            "3     2.3\n",
            "0     3.3\n",
            "5     2.1\n",
            "12    3.3\n",
            "    Temp\n",
            "1     50\n",
            "6     80\n",
            "8     80\n",
            "9     90\n",
            "14   100\n",
            "    Yield\n",
            "1     2.8\n",
            "6     2.5\n",
            "8     2.4\n",
            "9     3.0\n",
            "14    3.0\n"
          ]
        }
      ],
      "source": [
        "#%%\n",
        "\n",
        "# Splitting into Train and Test Dataset\n",
        "\n",
        "from sklearn.model_selection import train_test_split\n",
        "X_train, X_test, y_train, y_test = train_test_split(X, y, test_size= 0.3, random_state = 0)\n",
        "print(X_train)\n",
        "print(y_train)\n",
        "print(X_test)\n",
        "print(y_test)"
      ]
    },
    {
      "cell_type": "code",
      "execution_count": 16,
      "metadata": {
        "colab": {
          "base_uri": "https://localhost:8080/",
          "height": 74
        },
        "id": "xdMRLZMD9dNJ",
        "outputId": "e1f3acc9-eb63-43ee-86fa-fa1935377303"
      },
      "outputs": [
        {
          "output_type": "execute_result",
          "data": {
            "text/plain": [
              "LinearRegression()"
            ],
            "text/html": [
              "<style>#sk-container-id-2 {color: black;background-color: white;}#sk-container-id-2 pre{padding: 0;}#sk-container-id-2 div.sk-toggleable {background-color: white;}#sk-container-id-2 label.sk-toggleable__label {cursor: pointer;display: block;width: 100%;margin-bottom: 0;padding: 0.3em;box-sizing: border-box;text-align: center;}#sk-container-id-2 label.sk-toggleable__label-arrow:before {content: \"▸\";float: left;margin-right: 0.25em;color: #696969;}#sk-container-id-2 label.sk-toggleable__label-arrow:hover:before {color: black;}#sk-container-id-2 div.sk-estimator:hover label.sk-toggleable__label-arrow:before {color: black;}#sk-container-id-2 div.sk-toggleable__content {max-height: 0;max-width: 0;overflow: hidden;text-align: left;background-color: #f0f8ff;}#sk-container-id-2 div.sk-toggleable__content pre {margin: 0.2em;color: black;border-radius: 0.25em;background-color: #f0f8ff;}#sk-container-id-2 input.sk-toggleable__control:checked~div.sk-toggleable__content {max-height: 200px;max-width: 100%;overflow: auto;}#sk-container-id-2 input.sk-toggleable__control:checked~label.sk-toggleable__label-arrow:before {content: \"▾\";}#sk-container-id-2 div.sk-estimator input.sk-toggleable__control:checked~label.sk-toggleable__label {background-color: #d4ebff;}#sk-container-id-2 div.sk-label input.sk-toggleable__control:checked~label.sk-toggleable__label {background-color: #d4ebff;}#sk-container-id-2 input.sk-hidden--visually {border: 0;clip: rect(1px 1px 1px 1px);clip: rect(1px, 1px, 1px, 1px);height: 1px;margin: -1px;overflow: hidden;padding: 0;position: absolute;width: 1px;}#sk-container-id-2 div.sk-estimator {font-family: monospace;background-color: #f0f8ff;border: 1px dotted black;border-radius: 0.25em;box-sizing: border-box;margin-bottom: 0.5em;}#sk-container-id-2 div.sk-estimator:hover {background-color: #d4ebff;}#sk-container-id-2 div.sk-parallel-item::after {content: \"\";width: 100%;border-bottom: 1px solid gray;flex-grow: 1;}#sk-container-id-2 div.sk-label:hover label.sk-toggleable__label {background-color: #d4ebff;}#sk-container-id-2 div.sk-serial::before {content: \"\";position: absolute;border-left: 1px solid gray;box-sizing: border-box;top: 0;bottom: 0;left: 50%;z-index: 0;}#sk-container-id-2 div.sk-serial {display: flex;flex-direction: column;align-items: center;background-color: white;padding-right: 0.2em;padding-left: 0.2em;position: relative;}#sk-container-id-2 div.sk-item {position: relative;z-index: 1;}#sk-container-id-2 div.sk-parallel {display: flex;align-items: stretch;justify-content: center;background-color: white;position: relative;}#sk-container-id-2 div.sk-item::before, #sk-container-id-2 div.sk-parallel-item::before {content: \"\";position: absolute;border-left: 1px solid gray;box-sizing: border-box;top: 0;bottom: 0;left: 50%;z-index: -1;}#sk-container-id-2 div.sk-parallel-item {display: flex;flex-direction: column;z-index: 1;position: relative;background-color: white;}#sk-container-id-2 div.sk-parallel-item:first-child::after {align-self: flex-end;width: 50%;}#sk-container-id-2 div.sk-parallel-item:last-child::after {align-self: flex-start;width: 50%;}#sk-container-id-2 div.sk-parallel-item:only-child::after {width: 0;}#sk-container-id-2 div.sk-dashed-wrapped {border: 1px dashed gray;margin: 0 0.4em 0.5em 0.4em;box-sizing: border-box;padding-bottom: 0.4em;background-color: white;}#sk-container-id-2 div.sk-label label {font-family: monospace;font-weight: bold;display: inline-block;line-height: 1.2em;}#sk-container-id-2 div.sk-label-container {text-align: center;}#sk-container-id-2 div.sk-container {/* jupyter's `normalize.less` sets `[hidden] { display: none; }` but bootstrap.min.css set `[hidden] { display: none !important; }` so we also need the `!important` here to be able to override the default hidden behavior on the sphinx rendered scikit-learn.org. See: https://github.com/scikit-learn/scikit-learn/issues/21755 */display: inline-block !important;position: relative;}#sk-container-id-2 div.sk-text-repr-fallback {display: none;}</style><div id=\"sk-container-id-2\" class=\"sk-top-container\"><div class=\"sk-text-repr-fallback\"><pre>LinearRegression()</pre><b>In a Jupyter environment, please rerun this cell to show the HTML representation or trust the notebook. <br />On GitHub, the HTML representation is unable to render, please try loading this page with nbviewer.org.</b></div><div class=\"sk-container\" hidden><div class=\"sk-item\"><div class=\"sk-estimator sk-toggleable\"><input class=\"sk-toggleable__control sk-hidden--visually\" id=\"sk-estimator-id-2\" type=\"checkbox\" checked><label for=\"sk-estimator-id-2\" class=\"sk-toggleable__label sk-toggleable__label-arrow\">LinearRegression</label><div class=\"sk-toggleable__content\"><pre>LinearRegression()</pre></div></div></div></div></div>"
            ]
          },
          "metadata": {},
          "execution_count": 16
        }
      ],
      "source": [
        "#%%\n",
        "\n",
        "# Fitting the dataset into Linear Regression Model\n",
        "\n",
        "from sklearn.linear_model import LinearRegression\n",
        "regressor = LinearRegression()\n",
        "regressor.fit(X_train, y_train)\n"
      ]
    },
    {
      "cell_type": "code",
      "execution_count": 19,
      "metadata": {
        "colab": {
          "base_uri": "https://localhost:8080/"
        },
        "id": "gbbyaWS79mqo",
        "outputId": "5b65b406-8d6f-436d-ecd6-cf8eea55abd3"
      },
      "outputs": [
        {
          "output_type": "stream",
          "name": "stdout",
          "text": [
            "[[2.65215947]\n",
            " [2.90531561]\n",
            " [2.90531561]\n",
            " [2.989701  ]\n",
            " [3.07408638]]\n"
          ]
        }
      ],
      "source": [
        "#%%\n",
        "\n",
        "# Predicting the values of the Test Set\n",
        "\n",
        "y_pred = regressor.predict(X_test)\n",
        "print(y_pred)"
      ]
    },
    {
      "cell_type": "code",
      "execution_count": 20,
      "metadata": {
        "colab": {
          "base_uri": "https://localhost:8080/"
        },
        "id": "pQswSWwU9uiC",
        "outputId": "920e5932-6513-45bb-d287-47dbd092220b"
      },
      "outputs": [
        {
          "output_type": "stream",
          "name": "stdout",
          "text": [
            "[[0.00843854]]\n",
            "[2.23023256]\n"
          ]
        }
      ],
      "source": [
        "#%%\n",
        "\n",
        " # Estimated coefficients and intercept for the linear regression\n",
        "\n",
        "print(regressor.coef_)\n",
        "\n",
        "print(regressor.intercept_)"
      ]
    },
    {
      "cell_type": "code",
      "execution_count": null,
      "metadata": {
        "colab": {
          "base_uri": "https://localhost:8080/",
          "height": 472
        },
        "id": "j7VCxL7h-MqL",
        "outputId": "19fb0a5f-6eb5-486b-b643-69d0c2f31944"
      },
      "outputs": [
        {
          "output_type": "display_data",
          "data": {
            "text/plain": [
              "<Figure size 640x480 with 1 Axes>"
            ],
            "image/png": "[encoded data removed]"
          },
          "metadata": {}
        }
      ],
      "source": [
        "#%%\n",
        "\n",
        "# Visualizing the Correlation\n",
        "\n",
        "plt.scatter(X_train, y_train, color = 'red')\n",
        "plt.scatter(X_train, regressor.predict(X_train), color = 'blue')\n",
        "plt.plot(X_train, regressor.predict(X_train), color = 'blue')\n",
        "plt.title('X vs Y (Training set)')\n",
        "plt.xlabel('X')\n",
        "plt.ylabel('Y')\n",
        "plt.show()"
      ]
    },
    {
      "cell_type": "code",
      "source": [
        "from sklearn.metrics import mean_squared_error\n",
        "mean_squared_error(y_test, y_pred)"
      ],
      "metadata": {
        "colab": {
          "base_uri": "https://localhost:8080/"
        },
        "id": "bOOW-15voV2i",
        "outputId": "731fd2b5-5be0-45e3-da2a-1333eeed44bb"
      },
      "execution_count": null,
      "outputs": [
        {
          "output_type": "execute_result",
          "data": {
            "text/plain": [
              "0.08941526031721497"
            ]
          },
          "metadata": {},
          "execution_count": 36
        }
      ]
    },
    {
      "cell_type": "markdown",
      "source": [
        "#LAB TASK:\n"
      ],
      "metadata": {
        "id": "G46MXjcoquJA"
      }
    },
    {
      "cell_type": "code",
      "source": [
        "import numpy as np\n",
        "import matplotlib.pyplot as plt\n",
        "import pandas as pd\n",
        "import matplotlib.pyplot as plt\n",
        "\n",
        "df = pd.read_csv(\"HousePrice.csv\")\n",
        "X = df.drop([\"TARGET(PRICE_IN_LACS)\"], axis = 1)\n",
        "y = df[[\"TARGET(PRICE_IN_LACS)\"]]\n",
        "\n",
        "print(X)\n",
        "print(y)"
      ],
      "metadata": {
        "id": "eu3GIZIgptEJ",
        "colab": {
          "base_uri": "https://localhost:8080/"
        },
        "outputId": "49d0fec7-11af-4201-9199-4f57ad9862f9"
      },
      "execution_count": 4,
      "outputs": [
        {
          "output_type": "stream",
          "name": "stdout",
          "text": [
            "       UNDER_CONSTRUCTION  RERA  BHK_NO.    SQUARE_FT  READY_TO_MOVE  RESALE  \\\n",
            "0                       0     0        2  1300.236407              1       1   \n",
            "1                       0     0        2  1275.000000              1       1   \n",
            "2                       0     0        2   933.159722              1       1   \n",
            "3                       0     1        2   929.921143              1       1   \n",
            "4                       1     0        2   999.009247              0       1   \n",
            "...                   ...   ...      ...          ...            ...     ...   \n",
            "29446                   0     0        3  2500.000000              1       1   \n",
            "29447                   0     0        2   769.230769              1       1   \n",
            "29448                   0     0        2  1022.641509              1       1   \n",
            "29449                   0     0        2   927.079009              1       1   \n",
            "29450                   0     1        2   896.774194              1       1   \n",
            "\n",
            "       LONGITUDE   LATITUDE  \n",
            "0      12.969910  77.597960  \n",
            "1      12.274538  76.644605  \n",
            "2      12.778033  77.632191  \n",
            "3      28.642300  77.344500  \n",
            "4      22.592200  88.484911  \n",
            "...          ...        ...  \n",
            "29446  27.140626  78.043277  \n",
            "29447  39.945409 -86.150721  \n",
            "29448  26.928785  75.828002  \n",
            "29449  12.900150  80.227910  \n",
            "29450  26.832353  75.841749  \n",
            "\n",
            "[29451 rows x 8 columns]\n",
            "       TARGET(PRICE_IN_LACS)\n",
            "0                       55.0\n",
            "1                       51.0\n",
            "2                       43.0\n",
            "3                       62.5\n",
            "4                       60.5\n",
            "...                      ...\n",
            "29446                   45.0\n",
            "29447                   16.0\n",
            "29448                   27.1\n",
            "29449                   67.0\n",
            "29450                   27.8\n",
            "\n",
            "[29451 rows x 1 columns]\n"
          ]
        }
      ]
    },
    {
      "cell_type": "code",
      "source": [
        "from sklearn.model_selection import train_test_split\n",
        "X_train, X_test, y_train, y_test = train_test_split(X, y, test_size= 0.3, random_state = 0)\n",
        "print(X_train)\n",
        "print(y_train)\n",
        "print(X_test)\n",
        "print(y_test)"
      ],
      "metadata": {
        "colab": {
          "base_uri": "https://localhost:8080/"
        },
        "id": "vCwJkev7FRjl",
        "outputId": "d1514a92-f303-4936-db95-183ce19311b0"
      },
      "execution_count": 5,
      "outputs": [
        {
          "output_type": "stream",
          "name": "stdout",
          "text": [
            "       UNDER_CONSTRUCTION  RERA  BHK_NO.      SQUARE_FT  READY_TO_MOVE  \\\n",
            "26231                   0     0        2    1359.927471              1   \n",
            "9109                    0     1        3    1849.650350              1   \n",
            "7103                    1     1        3  145208.429500              0   \n",
            "25780                   1     1        1     663.516638              0   \n",
            "8593                    0     0        2     777.019072              1   \n",
            "...                   ...   ...      ...            ...            ...   \n",
            "13123                   0     0        2    1370.431894              1   \n",
            "19648                   1     1        3    1800.180018              0   \n",
            "9845                    0     0        4    2400.000000              1   \n",
            "10799                   0     1        2    1015.056674              1   \n",
            "2732                    1     1        3    1623.655914              0   \n",
            "\n",
            "       RESALE  LONGITUDE   LATITUDE  \n",
            "26231       1  12.910000  77.640000  \n",
            "9109        1  30.662283  76.822397  \n",
            "7103        0  15.450560  73.803330  \n",
            "25780       0  19.249861  72.963866  \n",
            "8593        1  12.940685  80.177022  \n",
            "...       ...        ...        ...  \n",
            "13123       1  28.210200  76.860600  \n",
            "19648       1  30.662283  76.822397  \n",
            "9845        1  22.288976  73.128222  \n",
            "10799       1  28.567633  77.383124  \n",
            "2732        1  28.429614  77.481711  \n",
            "\n",
            "[20615 rows x 8 columns]\n",
            "       TARGET(PRICE_IN_LACS)\n",
            "26231                   60.0\n",
            "9109                    52.9\n",
            "7103                  9440.0\n",
            "25780                   66.0\n",
            "8593                    33.0\n",
            "...                      ...\n",
            "13123                   33.0\n",
            "19648                   60.0\n",
            "9845                    90.0\n",
            "10799                   60.0\n",
            "2732                    75.5\n",
            "\n",
            "[20615 rows x 1 columns]\n",
            "       UNDER_CONSTRUCTION  RERA  BHK_NO.    SQUARE_FT  READY_TO_MOVE  RESALE  \\\n",
            "26350                   0     0        3  1316.135825              1       1   \n",
            "23308                   0     0        2  1080.201243              1       1   \n",
            "16028                   0     0        2  1183.081928              1       1   \n",
            "28605                   1     1        2   728.792046              0       0   \n",
            "21083                   0     1        4  3563.437474              1       1   \n",
            "...                   ...   ...      ...          ...            ...     ...   \n",
            "26567                   0     0        3  1199.815413              1       1   \n",
            "13096                   1     0        2   863.157895              0       1   \n",
            "8640                    1     1        2  1084.875558              0       1   \n",
            "14477                   0     0        2  1214.083367              1       1   \n",
            "12831                   0     0        3  1280.081925              1       1   \n",
            "\n",
            "       LONGITUDE   LATITUDE  \n",
            "26350  41.609760 -87.516591  \n",
            "23308  26.900926  75.775927  \n",
            "16028  17.450000  78.500000  \n",
            "28605  18.543800  73.943800  \n",
            "21083  19.126499  72.999560  \n",
            "...          ...        ...  \n",
            "26567  26.840615  75.800682  \n",
            "13096  19.980678  79.297436  \n",
            "8640   28.636760  77.363150  \n",
            "14477  19.042483  73.066371  \n",
            "12831  30.690115  76.759652  \n",
            "\n",
            "[8836 rows x 8 columns]\n",
            "       TARGET(PRICE_IN_LACS)\n",
            "26350                  100.0\n",
            "23308                   36.5\n",
            "16028                   80.0\n",
            "28605                   68.9\n",
            "21083                  430.0\n",
            "...                      ...\n",
            "26567                   52.0\n",
            "13096                   32.8\n",
            "8640                    85.0\n",
            "14477                  120.0\n",
            "12831                  100.0\n",
            "\n",
            "[8836 rows x 1 columns]\n"
          ]
        }
      ]
    },
    {
      "cell_type": "code",
      "source": [
        "from sklearn.linear_model import LinearRegression\n",
        "regressor = LinearRegression()\n",
        "regressor.fit(X_train, y_train)\n"
      ],
      "metadata": {
        "colab": {
          "base_uri": "https://localhost:8080/",
          "height": 74
        },
        "id": "GssozMDXFbBG",
        "outputId": "e50d99fe-15b2-4bfe-e570-ccb09afcadde"
      },
      "execution_count": 6,
      "outputs": [
        {
          "output_type": "execute_result",
          "data": {
            "text/plain": [
              "LinearRegression()"
            ],
            "text/html": [
              "<style>#sk-container-id-1 {color: black;background-color: white;}#sk-container-id-1 pre{padding: 0;}#sk-container-id-1 div.sk-toggleable {background-color: white;}#sk-container-id-1 label.sk-toggleable__label {cursor: pointer;display: block;width: 100%;margin-bottom: 0;padding: 0.3em;box-sizing: border-box;text-align: center;}#sk-container-id-1 label.sk-toggleable__label-arrow:before {content: \"▸\";float: left;margin-right: 0.25em;color: #696969;}#sk-container-id-1 label.sk-toggleable__label-arrow:hover:before {color: black;}#sk-container-id-1 div.sk-estimator:hover label.sk-toggleable__label-arrow:before {color: black;}#sk-container-id-1 div.sk-toggleable__content {max-height: 0;max-width: 0;overflow: hidden;text-align: left;background-color: #f0f8ff;}#sk-container-id-1 div.sk-toggleable__content pre {margin: 0.2em;color: black;border-radius: 0.25em;background-color: #f0f8ff;}#sk-container-id-1 input.sk-toggleable__control:checked~div.sk-toggleable__content {max-height: 200px;max-width: 100%;overflow: auto;}#sk-container-id-1 input.sk-toggleable__control:checked~label.sk-toggleable__label-arrow:before {content: \"▾\";}#sk-container-id-1 div.sk-estimator input.sk-toggleable__control:checked~label.sk-toggleable__label {background-color: #d4ebff;}#sk-container-id-1 div.sk-label input.sk-toggleable__control:checked~label.sk-toggleable__label {background-color: #d4ebff;}#sk-container-id-1 input.sk-hidden--visually {border: 0;clip: rect(1px 1px 1px 1px);clip: rect(1px, 1px, 1px, 1px);height: 1px;margin: -1px;overflow: hidden;padding: 0;position: absolute;width: 1px;}#sk-container-id-1 div.sk-estimator {font-family: monospace;background-color: #f0f8ff;border: 1px dotted black;border-radius: 0.25em;box-sizing: border-box;margin-bottom: 0.5em;}#sk-container-id-1 div.sk-estimator:hover {background-color: #d4ebff;}#sk-container-id-1 div.sk-parallel-item::after {content: \"\";width: 100%;border-bottom: 1px solid gray;flex-grow: 1;}#sk-container-id-1 div.sk-label:hover label.sk-toggleable__label {background-color: #d4ebff;}#sk-container-id-1 div.sk-serial::before {content: \"\";position: absolute;border-left: 1px solid gray;box-sizing: border-box;top: 0;bottom: 0;left: 50%;z-index: 0;}#sk-container-id-1 div.sk-serial {display: flex;flex-direction: column;align-items: center;background-color: white;padding-right: 0.2em;padding-left: 0.2em;position: relative;}#sk-container-id-1 div.sk-item {position: relative;z-index: 1;}#sk-container-id-1 div.sk-parallel {display: flex;align-items: stretch;justify-content: center;background-color: white;position: relative;}#sk-container-id-1 div.sk-item::before, #sk-container-id-1 div.sk-parallel-item::before {content: \"\";position: absolute;border-left: 1px solid gray;box-sizing: border-box;top: 0;bottom: 0;left: 50%;z-index: -1;}#sk-container-id-1 div.sk-parallel-item {display: flex;flex-direction: column;z-index: 1;position: relative;background-color: white;}#sk-container-id-1 div.sk-parallel-item:first-child::after {align-self: flex-end;width: 50%;}#sk-container-id-1 div.sk-parallel-item:last-child::after {align-self: flex-start;width: 50%;}#sk-container-id-1 div.sk-parallel-item:only-child::after {width: 0;}#sk-container-id-1 div.sk-dashed-wrapped {border: 1px dashed gray;margin: 0 0.4em 0.5em 0.4em;box-sizing: border-box;padding-bottom: 0.4em;background-color: white;}#sk-container-id-1 div.sk-label label {font-family: monospace;font-weight: bold;display: inline-block;line-height: 1.2em;}#sk-container-id-1 div.sk-label-container {text-align: center;}#sk-container-id-1 div.sk-container {/* jupyter's `normalize.less` sets `[hidden] { display: none; }` but bootstrap.min.css set `[hidden] { display: none !important; }` so we also need the `!important` here to be able to override the default hidden behavior on the sphinx rendered scikit-learn.org. See: https://github.com/scikit-learn/scikit-learn/issues/21755 */display: inline-block !important;position: relative;}#sk-container-id-1 div.sk-text-repr-fallback {display: none;}</style><div id=\"sk-container-id-1\" class=\"sk-top-container\"><div class=\"sk-text-repr-fallback\"><pre>LinearRegression()</pre><b>In a Jupyter environment, please rerun this cell to show the HTML representation or trust the notebook. <br />On GitHub, the HTML representation is unable to render, please try loading this page with nbviewer.org.</b></div><div class=\"sk-container\" hidden><div class=\"sk-item\"><div class=\"sk-estimator sk-toggleable\"><input class=\"sk-toggleable__control sk-hidden--visually\" id=\"sk-estimator-id-1\" type=\"checkbox\" checked><label for=\"sk-estimator-id-1\" class=\"sk-toggleable__label sk-toggleable__label-arrow\">LinearRegression</label><div class=\"sk-toggleable__content\"><pre>LinearRegression()</pre></div></div></div></div></div>"
            ]
          },
          "metadata": {},
          "execution_count": 6
        }
      ]
    },
    {
      "cell_type": "code",
      "source": [
        "y_pred = regressor.predict(X_test)\n",
        "print(y_pred)"
      ],
      "metadata": {
        "colab": {
          "base_uri": "https://localhost:8080/"
        },
        "id": "NE2CVFCLFm7U",
        "outputId": "0bc43207-d775-4b6a-dfa2-cbf7d9066832"
      },
      "execution_count": 7,
      "outputs": [
        {
          "output_type": "stream",
          "name": "stdout",
          "text": [
            "[[350.93121845]\n",
            " [ 47.45949374]\n",
            " [ 75.65685734]\n",
            " ...\n",
            " [ 41.14241079]\n",
            " [ 79.07266201]\n",
            " [119.15935612]]\n"
          ]
        }
      ]
    },
    {
      "cell_type": "code",
      "source": [
        "print(regressor.coef_)\n",
        "\n",
        "print(regressor.intercept_)"
      ],
      "metadata": {
        "colab": {
          "base_uri": "https://localhost:8080/"
        },
        "id": "RsBvjC0iF1q9",
        "outputId": "2480b2fb-9b53-4e2a-9e73-0879c8330046"
      },
      "execution_count": 8,
      "outputs": [
        {
          "output_type": "stream",
          "name": "stdout",
          "text": [
            "[[-1.40961830e+01  3.04758256e+01  8.63796126e+01  1.28588561e-04\n",
            "   1.40961830e+01 -5.58399828e+02 -3.45500185e+00 -1.64049661e+00]]\n",
            "[636.11791307]\n"
          ]
        }
      ]
    },
    {
      "cell_type": "code",
      "source": [
        "plt.scatter(X_train, y_train, color = 'green')\n",
        "plt.scatter(X_train, regressor.predict(X_train), color = 'blue')\n",
        "plt.plot(X_train, regressor.predict(X_train), color = 'blue')\n",
        "plt.title('X vs Y (Training set)')\n",
        "plt.xlabel('X')\n",
        "plt.ylabel('Y')\n",
        "plt.show()"
      ],
      "metadata": {
        "colab": {
          "base_uri": "https://localhost:8080/",
          "height": 472
        },
        "id": "Vv3DcmaPF6Cb",
        "outputId": "c81f695a-587a-4db0-f453-b51d697e7d86"
      },
      "execution_count": 21,
      "outputs": [
        {
          "output_type": "display_data",
          "data": {
            "text/plain": [
              "<Figure size 640x480 with 1 Axes>"
            ],
            "image/png": "[encoded data removed]"
          },
          "metadata": {}
        }
      ]
    },
    {
      "cell_type": "code",
      "source": [
        "from sklearn.metrics import mean_squared_error\n",
        "mean_squared_error(y_test, y_pred)"
      ],
      "metadata": {
        "id": "fjrs2cOqJ2CU",
        "colab": {
          "base_uri": "https://localhost:8080/"
        },
        "outputId": "48bd6eb0-5a41-4040-a327-f07b77aaa3c1"
      },
      "execution_count": 22,
      "outputs": [
        {
          "output_type": "execute_result",
          "data": {
            "text/plain": [
              "0.08941526031721497"
            ]
          },
          "metadata": {},
          "execution_count": 22
        }
      ]
    }
  ],
  "metadata": {
    "colab": {
      "provenance": []
    },
    "kernelspec": {
      "name": "python3",
      "display_name": "Python 3"
    },
    "language_info": {
      "name": "python"
    }
  },
  "nbformat": 4,
  "nbformat_minor": 0
}