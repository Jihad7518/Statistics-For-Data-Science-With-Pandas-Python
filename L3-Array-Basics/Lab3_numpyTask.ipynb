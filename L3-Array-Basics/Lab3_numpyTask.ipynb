{
  "nbformat": 4,
  "nbformat_minor": 0,
  "metadata": {
    "colab": {
      "provenance": []
    },
    "kernelspec": {
      "name": "python3",
      "display_name": "Python 3"
    },
    "language_info": {
      "name": "python"
    }
  },
  "cells": [
    {
      "cell_type": "markdown",
      "source": [
        "Problem 1: Convert the following 1-D array with 12 elements into a 2-D array. The outermost dimension will have 2 arrays, each with 6 elements:"
      ],
      "metadata": {
        "id": "5uid_GD1bpPj"
      }
    },
    {
      "cell_type": "code",
      "source": [
        "import numpy as np\n",
        "\n",
        "arr = np.array([1, 2, 3, 4, 5, 6, 7, 8, 9, 10, 11, 12])\n",
        "#code here\n"
      ],
      "metadata": {
        "id": "rsNDUm6xb3U8"
      },
      "execution_count": null,
      "outputs": []
    },
    {
      "cell_type": "markdown",
      "source": [
        "Problem 2: Convert the following 1-D array into a 3d Array with 1 X 3 elements"
      ],
      "metadata": {
        "id": "zxSPmBPvcwtR"
      }
    },
    {
      "cell_type": "code",
      "source": [
        "import numpy as np\n",
        "\n",
        "arr = np.array([1, 2, 3, 4, 5, 6, 7, 8, 9, 10, 11, 12])\n",
        "#code here\n"
      ],
      "metadata": {
        "id": "YAwiZucbc6Ig"
      },
      "execution_count": null,
      "outputs": []
    },
    {
      "cell_type": "markdown",
      "source": [
        "Problem 3: Iterate on the elements of the following 3-D array and add 12 if the number is odd and substract -12 if the number is even and print it.\n"
      ],
      "metadata": {
        "id": "NPvTPz4sddZL"
      }
    },
    {
      "cell_type": "code",
      "source": [
        "import numpy as np\n",
        "arr = np.array([[[1, 2, 3], [4, 5, 6]], [[7, 8, 9], [10, 11, 12]]])\n",
        "#code here"
      ],
      "metadata": {
        "id": "VzKOXha5dyqu"
      },
      "execution_count": 4,
      "outputs": []
    },
    {
      "cell_type": "markdown",
      "source": [
        "Problem 4 : Join two 2-D arrays along rows (axis=1):"
      ],
      "metadata": {
        "id": "NI3eNJsiettQ"
      }
    },
    {
      "cell_type": "code",
      "source": [
        "import numpy as np\n",
        "\n",
        "arr1 = np.array([[1, 2], [3, 4],[5,6],[7,8],[9,10]])\n",
        "\n",
        "arr2 = np.array([[5, 6], [7, 8],[70,80],[90,100],[110,120]])\n",
        "\n",
        "#code here\n"
      ],
      "metadata": {
        "id": "y47_OkRFeTFZ"
      },
      "execution_count": null,
      "outputs": []
    },
    {
      "cell_type": "markdown",
      "source": [
        "Problem 5 : Stack two 2-D Array along columns"
      ],
      "metadata": {
        "id": "Q4DHdBHWfCch"
      }
    },
    {
      "cell_type": "code",
      "source": [
        "import numpy as np\n",
        "\n",
        "arr1 = np.array([[1, 2], [3, 4],[5,6],[7,8],[9,10]])\n",
        "\n",
        "arr2 = np.array([[5, 6], [7, 8],[70,80],[90,100],[110,120]])\n",
        "#code here\n"
      ],
      "metadata": {
        "id": "5kqhpSHQfHxg"
      },
      "execution_count": null,
      "outputs": []
    },
    {
      "cell_type": "markdown",
      "source": [
        "Problem 5 : Stack two 2-D Array along depth"
      ],
      "metadata": {
        "id": "T5NDOry3foHQ"
      }
    },
    {
      "cell_type": "code",
      "source": [
        "import numpy as np\n",
        "\n",
        "arr1 = np.array([[1, 2], [3, 4],[5,6],[7,8],[9,10]])\n",
        "\n",
        "arr2 = np.array([[5, 6], [7, 8],[70,80],[90,100],[110,120]])\n",
        "#code here"
      ],
      "metadata": {
        "id": "LBCfdO56fnOB"
      },
      "execution_count": 14,
      "outputs": []
    },
    {
      "cell_type": "markdown",
      "source": [
        "Problem 6 : Create a filter array for the 1d array. If the number is even then store True in then filter array else False\n",
        "And then filter the initial array using the filter array."
      ],
      "metadata": {
        "id": "vNArhnvjf4P4"
      }
    },
    {
      "cell_type": "code",
      "source": [
        "\n",
        "import numpy as np\n",
        "\n",
        "arr = np.array([41, 42, 43, 44, 45, 46, 47, 48, 49, 50, 1, 2, 3, 4, 5, 6, 7, 8, 9, 10])\n",
        "#code here\n"
      ],
      "metadata": {
        "id": "E5Fd4ILwgPtP"
      },
      "execution_count": null,
      "outputs": []
    },
    {
      "cell_type": "markdown",
      "source": [
        "Problem 7 : Generate 50 random numbers and store it in numpy array and then apply the same operations in problem 6"
      ],
      "metadata": {
        "id": "LQOpRLpFgjHP"
      }
    },
    {
      "cell_type": "code",
      "source": [
        "from numpy import random\n",
        "\n",
        "#code here\n"
      ],
      "metadata": {
        "id": "dKj7fOelgiDy"
      },
      "execution_count": 13,
      "outputs": []
    },
    {
      "cell_type": "markdown",
      "source": [
        "Problem 8 :  Slice from the index 3 from the end to index 1 from the end\n"
      ],
      "metadata": {
        "id": "IBkM_-8ahAdg"
      }
    },
    {
      "cell_type": "code",
      "source": [
        "import numpy as np\n",
        "\n",
        "arr1 = np.array([[1, 2], [3, 4],[5,6],[7,8],[9,10]])\n",
        "\n",
        "#code here"
      ],
      "metadata": {
        "id": "s31YDQODf2AJ"
      },
      "execution_count": null,
      "outputs": []
    },
    {
      "cell_type": "markdown",
      "source": [
        "Problem 9 : Return every two other element from index 1 to index 5:"
      ],
      "metadata": {
        "id": "k9W98WVghRgX"
      }
    },
    {
      "cell_type": "code",
      "source": [
        "import numpy as np\n",
        "arr = np.array([41, 42, 43, 44, 45, 46, 47, 48, 49, 50, 1, 2, 3, 4, 5, 6, 7, 8, 9, 10])"
      ],
      "metadata": {
        "id": "ccGmSkBghiWZ"
      },
      "execution_count": null,
      "outputs": []
    },
    {
      "cell_type": "markdown",
      "source": [
        "Problem 10 : Generate a random permutation of elements of following array"
      ],
      "metadata": {
        "id": "-XnAKq1Jhrl_"
      }
    },
    {
      "cell_type": "code",
      "source": [
        "import numpy as np\n",
        "arr = np.array([41, 42, 43, 44, 45, 46, 47, 48, 49, 50, 1, 2, 3, 4, 5, 6, 7, 8, 9, 10])\n",
        "#code here"
      ],
      "metadata": {
        "id": "YEz9cdUYiHXL"
      },
      "execution_count": null,
      "outputs": []
    }
  ]
}