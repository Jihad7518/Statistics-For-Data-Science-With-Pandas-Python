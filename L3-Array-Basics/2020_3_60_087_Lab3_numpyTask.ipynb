{
  "nbformat": 4,
  "nbformat_minor": 0,
  "metadata": {
    "colab": {
      "provenance": []
    },
    "kernelspec": {
      "name": "python3",
      "display_name": "Python 3"
    },
    "language_info": {
      "name": "python"
    }
  },
  "cells": [
    {
      "cell_type": "markdown",
      "source": [
        "Problem 1: Convert the following 1-D array with 12 elements into a 2-D array. The outermost dimension will have 2 arrays, each with 6 elements:"
      ],
      "metadata": {
        "id": "5uid_GD1bpPj"
      }
    },
    {
      "cell_type": "code",
      "source": [
        "import numpy as np\n",
        "\n",
        "arr = np.array([1, 2, 3, 4, 5, 6, 7, 8, 9, 10, 11, 12])\n",
        "#code here\n",
        "arr2D = arr.reshape(2, 6) #reshape function from NumPy library to convert the 1-D array into a 2-D array with 2x6\n",
        "\n",
        "print(arr2D)"
      ],
      "metadata": {
        "id": "rsNDUm6xb3U8",
        "colab": {
          "base_uri": "https://localhost:8080/"
        },
        "outputId": "95231888-9dfb-4e1f-80b0-23dcbf259ef0"
      },
      "execution_count": 1,
      "outputs": [
        {
          "output_type": "stream",
          "name": "stdout",
          "text": [
            "[[ 1  2  3  4  5  6]\n",
            " [ 7  8  9 10 11 12]]\n"
          ]
        }
      ]
    },
    {
      "cell_type": "markdown",
      "source": [
        "Problem 2: Convert the following 1-D array into a 3d Array with 1 X 3 elements"
      ],
      "metadata": {
        "id": "zxSPmBPvcwtR"
      }
    },
    {
      "cell_type": "code",
      "source": [
        "import numpy as np\n",
        "\n",
        "arr = np.array([1, 2, 3, 4, 5, 6, 7, 8, 9, 10, 11, 12])\n",
        "#code here\n",
        "arr3D = arr.reshape(4, 1, 3)\n",
        "\n",
        "print(arr3D)"
      ],
      "metadata": {
        "id": "YAwiZucbc6Ig",
        "colab": {
          "base_uri": "https://localhost:8080/"
        },
        "outputId": "b06e32e0-4f2d-4ac1-c692-67a5bcaf6aed"
      },
      "execution_count": 2,
      "outputs": [
        {
          "output_type": "stream",
          "name": "stdout",
          "text": [
            "[[[ 1  2  3]]\n",
            "\n",
            " [[ 4  5  6]]\n",
            "\n",
            " [[ 7  8  9]]\n",
            "\n",
            " [[10 11 12]]]\n"
          ]
        }
      ]
    },
    {
      "cell_type": "markdown",
      "source": [
        "Problem 3: Iterate on the elements of the following 3-D array and add 12 if the number is odd and substract -12 if the number is even and print it.\n"
      ],
      "metadata": {
        "id": "NPvTPz4sddZL"
      }
    },
    {
      "cell_type": "code",
      "source": [
        "import numpy as np\n",
        "arr = np.array([[[1, 2, 3], [4, 5, 6]], [[7, 8, 9], [10, 11, 12]]])\n",
        "#code here\n",
        "for i in range(arr.shape[0]): ## Iterate elements\n",
        "    for j in range(arr.shape[1]):\n",
        "        for k in range(arr.shape[2]):\n",
        "            if arr[i, j, k] % 2 == 0:\n",
        "                arr[i, j, k] -= 12\n",
        "            else:\n",
        "                arr[i, j, k] += 12\n",
        "print(arr)"
      ],
      "metadata": {
        "id": "VzKOXha5dyqu",
        "colab": {
          "base_uri": "https://localhost:8080/"
        },
        "outputId": "33e8c75c-45bc-418b-a25b-1765ceea4e47"
      },
      "execution_count": 3,
      "outputs": [
        {
          "output_type": "stream",
          "name": "stdout",
          "text": [
            "[[[ 13 -10  15]\n",
            "  [ -8  17  -6]]\n",
            "\n",
            " [[ 19  -4  21]\n",
            "  [ -2  23   0]]]\n"
          ]
        }
      ]
    },
    {
      "cell_type": "markdown",
      "source": [
        "Problem 4 : Join two 2-D arrays along rows (axis=1):"
      ],
      "metadata": {
        "id": "NI3eNJsiettQ"
      }
    },
    {
      "cell_type": "code",
      "source": [
        "import numpy as np\n",
        "\n",
        "arr1 = np.array([[1, 2], [3, 4],[5,6],[7,8],[9,10]])\n",
        "\n",
        "arr2 = np.array([[5, 6], [7, 8],[70,80],[90,100],[110,120]])\n",
        "\n",
        "#code here\n",
        "print(np.concatenate((arr1, arr2), axis=1)) #used concatenate function to join the two array"
      ],
      "metadata": {
        "id": "y47_OkRFeTFZ",
        "colab": {
          "base_uri": "https://localhost:8080/"
        },
        "outputId": "977e2eeb-9229-48fa-e9e4-170859132e2b"
      },
      "execution_count": 4,
      "outputs": [
        {
          "output_type": "stream",
          "name": "stdout",
          "text": [
            "[[  1   2   5   6]\n",
            " [  3   4   7   8]\n",
            " [  5   6  70  80]\n",
            " [  7   8  90 100]\n",
            " [  9  10 110 120]]\n"
          ]
        }
      ]
    },
    {
      "cell_type": "markdown",
      "source": [
        "Problem 5 : Stack two 2-D Array along columns"
      ],
      "metadata": {
        "id": "Q4DHdBHWfCch"
      }
    },
    {
      "cell_type": "code",
      "source": [
        "import numpy as np\n",
        "\n",
        "arr1 = np.array([[1, 2], [3, 4],[5,6],[7,8],[9,10]])\n",
        "\n",
        "arr2 = np.array([[5, 6], [7, 8],[70,80],[90,100],[110,120]])\n",
        "#code here\n",
        "print(np.hstack((arr1, arr2))) #used hstack function to stack the two arrays along columns"
      ],
      "metadata": {
        "id": "5kqhpSHQfHxg",
        "colab": {
          "base_uri": "https://localhost:8080/"
        },
        "outputId": "9bf4214c-04bb-44bc-fe7a-f3a06c772157"
      },
      "execution_count": 6,
      "outputs": [
        {
          "output_type": "stream",
          "name": "stdout",
          "text": [
            "[[  1   2   5   6]\n",
            " [  3   4   7   8]\n",
            " [  5   6  70  80]\n",
            " [  7   8  90 100]\n",
            " [  9  10 110 120]]\n"
          ]
        }
      ]
    },
    {
      "cell_type": "markdown",
      "source": [
        "Problem 5 : Stack two 2-D Array along depth"
      ],
      "metadata": {
        "id": "T5NDOry3foHQ"
      }
    },
    {
      "cell_type": "code",
      "source": [
        "import numpy as np\n",
        "\n",
        "arr1 = np.array([[1, 2], [3, 4],[5,6],[7,8],[9,10]])\n",
        "\n",
        "arr2 = np.array([[5, 6], [7, 8],[70,80],[90,100],[110,120]])\n",
        "#code here\n",
        "print(np.dstack((arr1, arr2))) #used dstack function to stack the two arrays along depth axis"
      ],
      "metadata": {
        "id": "LBCfdO56fnOB",
        "colab": {
          "base_uri": "https://localhost:8080/"
        },
        "outputId": "7be7b92c-a835-4a13-c8be-096a93bb288e"
      },
      "execution_count": 7,
      "outputs": [
        {
          "output_type": "stream",
          "name": "stdout",
          "text": [
            "[[[  1   5]\n",
            "  [  2   6]]\n",
            "\n",
            " [[  3   7]\n",
            "  [  4   8]]\n",
            "\n",
            " [[  5  70]\n",
            "  [  6  80]]\n",
            "\n",
            " [[  7  90]\n",
            "  [  8 100]]\n",
            "\n",
            " [[  9 110]\n",
            "  [ 10 120]]]\n"
          ]
        }
      ]
    },
    {
      "cell_type": "markdown",
      "source": [
        "Problem 6 : Create a filter array for the 1d array. If the number is even then store True in then filter array else False\n",
        "And then filter the initial array using the filter array."
      ],
      "metadata": {
        "id": "vNArhnvjf4P4"
      }
    },
    {
      "cell_type": "code",
      "source": [
        "\n",
        "import numpy as np\n",
        "\n",
        "arr = np.array([41, 42, 43, 44, 45, 46, 47, 48, 49, 50, 1, 2, 3, 4, 5, 6, 7, 8, 9, 10])\n",
        "#code here\n",
        "filter_arr = []\n",
        "\n",
        "for element in arr: # iterate each element in arr\n",
        "  if element % 2 == 0:\n",
        "    filter_arr.append(True)\n",
        "  else:\n",
        "    filter_arr.append(False)\n",
        "\n",
        "arr2 = arr[filter_arr]\n",
        "\n",
        "print(filter_arr)\n",
        "print(arr2)\n"
      ],
      "metadata": {
        "id": "E5Fd4ILwgPtP",
        "colab": {
          "base_uri": "https://localhost:8080/"
        },
        "outputId": "7337852d-cac7-48c6-92c2-e06d6a1ee280"
      },
      "execution_count": 8,
      "outputs": [
        {
          "output_type": "stream",
          "name": "stdout",
          "text": [
            "[False, True, False, True, False, True, False, True, False, True, False, True, False, True, False, True, False, True, False, True]\n",
            "[42 44 46 48 50  2  4  6  8 10]\n"
          ]
        }
      ]
    },
    {
      "cell_type": "markdown",
      "source": [
        "Problem 7 : Generate 50 random numbers and store it in numpy array and then apply the same operations in problem 6"
      ],
      "metadata": {
        "id": "LQOpRLpFgjHP"
      }
    },
    {
      "cell_type": "code",
      "source": [
        "from numpy import random\n",
        "\n",
        "#code here\n",
        "random_numbers = random.randint(1, 100, 50) # generate 50 random numbers from 1-100\n",
        "print(random_numbers)\n",
        "\n",
        "filter_arr2 = []\n",
        "\n",
        "for element in random_numbers: # iterate each element in random_numbers\n",
        "  if element % 2 == 0:\n",
        "    filter_arr2.append(True)\n",
        "  else:\n",
        "    filter_arr2.append(False)\n",
        "\n",
        "final_arr = random_numbers[filter_arr2]\n",
        "\n",
        "print(filter_arr2)\n",
        "print(final_arr)"
      ],
      "metadata": {
        "id": "dKj7fOelgiDy",
        "colab": {
          "base_uri": "https://localhost:8080/"
        },
        "outputId": "1a2650a0-2c75-4509-e7f6-52963cdac280"
      },
      "execution_count": 10,
      "outputs": [
        {
          "output_type": "stream",
          "name": "stdout",
          "text": [
            "[21 46 35 32 41 75 87 69 20 57 52 86 38 29 25 35 96  8 32 35 59 56 96 85\n",
            " 51 39 27 46 39 47 15 73  9 49 29 62 44  1 66 56 57 29 60 73 86 33 11 15\n",
            " 96 56]\n",
            "[False, True, False, True, False, False, False, False, True, False, True, True, True, False, False, False, True, True, True, False, False, True, True, False, False, False, False, True, False, False, False, False, False, False, False, True, True, False, True, True, False, False, True, False, True, False, False, False, True, True]\n",
            "[46 32 20 52 86 38 96  8 32 56 96 46 62 44 66 56 60 86 96 56]\n"
          ]
        }
      ]
    },
    {
      "cell_type": "markdown",
      "source": [
        "Problem 8 :  Slice from the index 3 from the end to index 1 from the end\n"
      ],
      "metadata": {
        "id": "IBkM_-8ahAdg"
      }
    },
    {
      "cell_type": "code",
      "source": [
        "import numpy as np\n",
        "\n",
        "arr1 = np.array([[1, 2], [3, 4],[5,6],[7,8],[9,10]])\n",
        "\n",
        "#code here\n",
        "print(arr1[-3:-1])"
      ],
      "metadata": {
        "id": "s31YDQODf2AJ",
        "colab": {
          "base_uri": "https://localhost:8080/"
        },
        "outputId": "f091ea5f-f262-49c4-ef58-6897c25512a0"
      },
      "execution_count": 11,
      "outputs": [
        {
          "output_type": "stream",
          "name": "stdout",
          "text": [
            "[[5 6]\n",
            " [7 8]]\n"
          ]
        }
      ]
    },
    {
      "cell_type": "markdown",
      "source": [
        "Problem 9 : Return every two other element from index 1 to index 5:"
      ],
      "metadata": {
        "id": "k9W98WVghRgX"
      }
    },
    {
      "cell_type": "code",
      "source": [
        "import numpy as np\n",
        "arr = np.array([41, 42, 43, 44, 45, 46, 47, 48, 49, 50, 1, 2, 3, 4, 5, 6, 7, 8, 9, 10])\n",
        "\n",
        "print(arr[1:6:2])"
      ],
      "metadata": {
        "id": "ccGmSkBghiWZ",
        "colab": {
          "base_uri": "https://localhost:8080/"
        },
        "outputId": "6883ad05-0968-44ca-9b1e-2dd6ca1b74bb"
      },
      "execution_count": 13,
      "outputs": [
        {
          "output_type": "stream",
          "name": "stdout",
          "text": [
            "[42 44 46]\n"
          ]
        }
      ]
    },
    {
      "cell_type": "markdown",
      "source": [
        "Problem 10 : Generate a random permutation of elements of following array"
      ],
      "metadata": {
        "id": "-XnAKq1Jhrl_"
      }
    },
    {
      "cell_type": "code",
      "source": [
        "import numpy as np\n",
        "arr = np.array([41, 42, 43, 44, 45, 46, 47, 48, 49, 50, 1, 2, 3, 4, 5, 6, 7, 8, 9, 10])\n",
        "#code here\n",
        "random_permutation_arr = np.random.permutation(arr)\n",
        "\n",
        "print(random_permutation_arr)"
      ],
      "metadata": {
        "id": "YEz9cdUYiHXL",
        "colab": {
          "base_uri": "https://localhost:8080/"
        },
        "outputId": "05cf51fa-141e-4ce4-946e-7b0b14a29cc2"
      },
      "execution_count": 14,
      "outputs": [
        {
          "output_type": "stream",
          "name": "stdout",
          "text": [
            "[ 1 49 47 10  5  2  7 43 45 50 42  4 48 41 44  8  6 46  9  3]\n"
          ]
        }
      ]
    }
  ]
}